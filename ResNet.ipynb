{
 "cells": [
  {
   "cell_type": "code",
   "execution_count": 1,
   "metadata": {},
   "outputs": [],
   "source": [
    "import torch\n",
    "import torchvision\n",
    "import torchvision.transforms as transforms\n"
   ]
  },
  {
   "cell_type": "markdown",
   "metadata": {},
   "source": [
    "# 实战：训练图像分类器\n",
    "\n",
    "我们将上一节的内容投入实战，训练一个图像分类器来对 CIFAR10 数据集中的图像进行分类。\n"
   ]
  },
  {
   "cell_type": "markdown",
   "metadata": {},
   "source": [
    "## 1. 加载和标准化 CIFAR-10\n",
    "\n",
    "CIFAR-10 是一个常用的数据集，包含 10 个类别的 60000 张 32x32 的彩色图像。训练集中每个类别有 5000 张图像，测试集中每个类别有 1000 张图像。\n",
    "\n",
    "![CIFAR-10 数据集中的图像示例](https://pytorch.org/tutorials/_images/cifar10.png)\n",
    "\n",
    "我们将使用 torchvision 来加载 CIFAR-10 数据集。\n",
    "\n",
    "我们还需要对数据进行归一化、标准化。归一化即将数据映射到 $[0,1]$ 区间，标准化即将数据映射到均值为 0，标准差为 1 的分布中（减去均值，再除以标准差）。\n"
   ]
  },
  {
   "cell_type": "code",
   "execution_count": 2,
   "metadata": {},
   "outputs": [
    {
     "name": "stdout",
     "output_type": "stream",
     "text": [
      "Files already downloaded and verified\n",
      "Files already downloaded and verified\n"
     ]
    }
   ],
   "source": [
    "import torchvision\n",
    "import torchvision.transforms as transforms\n",
    "\n",
    "transform = transforms.Compose(\n",
    "\t[transforms.ToTensor(),\n",
    "\t transforms.Normalize((0.485, 0.456, 0.406), (0.229, 0.224, 0.225))]) # 归一化\n",
    "\n",
    "batch_size = 4 # 批处理大小\n",
    "\n",
    "trainset = torchvision.datasets.CIFAR100(root='./data', train=True,\n",
    "                                        download=True, transform=transform) # 下载训练数据集\n",
    "trainloader = torch.utils.data.DataLoader(trainset, batch_size=batch_size,\n",
    "                                          shuffle=True, num_workers=2) # 加载训练数据集\n",
    "\n",
    "testset = torchvision.datasets.CIFAR100(root='./data', train=False,\n",
    "                                       download=True, transform=transform) # 下载测试数据集\n",
    "testloader = torch.utils.data.DataLoader(testset, batch_size=batch_size,\n",
    "                                         shuffle=False, num_workers=2) # 加载测试数据集\n",
    "\n",
    "classes = (\n",
    "\t\"apple\",\n",
    "\t\"aquarium_fish\",\n",
    "\t\"baby\",\n",
    "\t\"bear\",\n",
    "\t\"beaver\",\n",
    "\t\"bed\",\n",
    "\t\"bee\",\n",
    "\t\"beetle\",\n",
    "\t\"bicycle\",\n",
    "\t\"bottle\",\n",
    "\t\"bowl\",\n",
    "\t\"boy\",\n",
    "\t\"bridge\",\n",
    "\t\"bus\",\n",
    "\t\"butterfly\",\n",
    "\t\"camel\",\n",
    "\t\"can\",\n",
    "\t\"castle\",\n",
    "\t\"caterpillar\",\n",
    "\t\"cattle\",\n",
    "\t\"chair\",\n",
    "\t\"chimpanzee\",\n",
    "\t\"clock\",\n",
    "\t\"cloud\",\n",
    "\t\"cockroach\",\n",
    "\t\"couch\",\n",
    "\t\"cra\",\n",
    "\t\"crocodile\",\n",
    "\t\"cup\",\n",
    "\t\"dinosaur\",\n",
    "\t\"dolphin\",\n",
    "\t\"elephant\",\n",
    "\t\"flatfish\",\n",
    "\t\"forest\",\n",
    "\t\"fox\",\n",
    "\t\"girl\",\n",
    "\t\"hamster\",\n",
    "\t\"house\",\n",
    "\t\"kangaroo\",\n",
    "\t\"keyboard\",\n",
    "\t\"lamp\",\n",
    "\t\"lawn_mower\",\n",
    "\t\"leopard\",\n",
    "\t\"lion\",\n",
    "\t\"lizard\",\n",
    "\t\"lobster\",\n",
    "\t\"man\",\n",
    "\t\"maple_tree\",\n",
    "\t\"motorcycle\",\n",
    "\t\"mountain\",\n",
    "\t\"mouse\",\n",
    "\t\"mushroom\",\n",
    "\t\"oak_tree\",\n",
    "\t\"orange\",\n",
    "\t\"orchid\",\n",
    "\t\"otter\",\n",
    "\t\"palm_tree\",\n",
    "\t\"pear\",\n",
    "\t\"pickup_truck\",\n",
    "\t\"pine_tree\",\n",
    "\t\"plain\",\n",
    "\t\"plate\",\n",
    "\t\"poppy\",\n",
    "\t\"porcupine\",\n",
    "\t\"possum\",\n",
    "\t\"rabbit\",\n",
    "\t\"raccoon\",\n",
    "\t\"ray\",\n",
    "\t\"road\",\n",
    "\t\"rocket\",\n",
    "\t\"rose\",\n",
    "\t\"sea\",\n",
    "\t\"seal\",\n",
    "\t\"shark\",\n",
    "\t\"shrew\",\n",
    "\t\"skunk\",\n",
    "\t\"skyscraper\",\n",
    "\t\"snail\",\n",
    "\t\"snake\",\n",
    "\t\"spider\",\n",
    "\t\"squirrel\",\n",
    "\t\"streetcar\",\n",
    "\t\"sunflower\",\n",
    "\t\"sweet_pepper\",\n",
    "\t\"table\",\n",
    "\t\"tank\",\n",
    "\t\"telephone\",\n",
    "\t\"television\",\n",
    "\t\"tiger\",\n",
    "\t\"tractor\",\n",
    "\t\"train\",\n",
    "\t\"trout\",\n",
    "\t\"tulip\",\n",
    "\t\"turtle\",\n",
    "\t\"wardrobe\",\n",
    "\t\"whale\",\n",
    "\t\"willow_tree\",\n",
    "\t\"wolf\",\n",
    "\t\"woman\",\n",
    "\t\"worm\",\n",
    ") # 类别\n"
   ]
  },
  {
   "cell_type": "code",
   "execution_count": 3,
   "metadata": {},
   "outputs": [],
   "source": [
    "device = torch.device(\"cuda\" if torch.cuda.is_available() else \"cpu\")"
   ]
  },
  {
   "cell_type": "markdown",
   "metadata": {},
   "source": [
    "## 2. 定义卷积神经网络\n",
    "\n",
    "这一次，我们需要将上一节的神经网络改为接受 RGB 三个通道的图像，而不是单通道的图像。\n"
   ]
  },
  {
   "cell_type": "code",
   "execution_count": 4,
   "metadata": {},
   "outputs": [
    {
     "name": "stderr",
     "output_type": "stream",
     "text": [
      "Using cache found in C:\\Users\\BobYu/.cache\\torch\\hub\\pytorch_vision_v0.10.0\n",
      "c:\\Users\\BobYu\\miniconda3\\envs\\PyTorch\\lib\\site-packages\\torchvision\\models\\_utils.py:208: UserWarning: The parameter 'pretrained' is deprecated since 0.13 and may be removed in the future, please use 'weights' instead.\n",
      "  warnings.warn(\n",
      "c:\\Users\\BobYu\\miniconda3\\envs\\PyTorch\\lib\\site-packages\\torchvision\\models\\_utils.py:223: UserWarning: Arguments other than a weight enum or `None` for 'weights' are deprecated since 0.13 and may be removed in the future. The current behavior is equivalent to passing `weights=ResNet18_Weights.IMAGENET1K_V1`. You can also use `weights=ResNet18_Weights.DEFAULT` to get the most up-to-date weights.\n",
      "  warnings.warn(msg)\n"
     ]
    },
    {
     "data": {
      "text/plain": [
       "ResNet(\n",
       "  (conv1): Conv2d(3, 64, kernel_size=(7, 7), stride=(2, 2), padding=(3, 3), bias=False)\n",
       "  (bn1): BatchNorm2d(64, eps=1e-05, momentum=0.1, affine=True, track_running_stats=True)\n",
       "  (relu): ReLU(inplace=True)\n",
       "  (maxpool): MaxPool2d(kernel_size=3, stride=2, padding=1, dilation=1, ceil_mode=False)\n",
       "  (layer1): Sequential(\n",
       "    (0): BasicBlock(\n",
       "      (conv1): Conv2d(64, 64, kernel_size=(3, 3), stride=(1, 1), padding=(1, 1), bias=False)\n",
       "      (bn1): BatchNorm2d(64, eps=1e-05, momentum=0.1, affine=True, track_running_stats=True)\n",
       "      (relu): ReLU(inplace=True)\n",
       "      (conv2): Conv2d(64, 64, kernel_size=(3, 3), stride=(1, 1), padding=(1, 1), bias=False)\n",
       "      (bn2): BatchNorm2d(64, eps=1e-05, momentum=0.1, affine=True, track_running_stats=True)\n",
       "    )\n",
       "    (1): BasicBlock(\n",
       "      (conv1): Conv2d(64, 64, kernel_size=(3, 3), stride=(1, 1), padding=(1, 1), bias=False)\n",
       "      (bn1): BatchNorm2d(64, eps=1e-05, momentum=0.1, affine=True, track_running_stats=True)\n",
       "      (relu): ReLU(inplace=True)\n",
       "      (conv2): Conv2d(64, 64, kernel_size=(3, 3), stride=(1, 1), padding=(1, 1), bias=False)\n",
       "      (bn2): BatchNorm2d(64, eps=1e-05, momentum=0.1, affine=True, track_running_stats=True)\n",
       "    )\n",
       "  )\n",
       "  (layer2): Sequential(\n",
       "    (0): BasicBlock(\n",
       "      (conv1): Conv2d(64, 128, kernel_size=(3, 3), stride=(2, 2), padding=(1, 1), bias=False)\n",
       "      (bn1): BatchNorm2d(128, eps=1e-05, momentum=0.1, affine=True, track_running_stats=True)\n",
       "      (relu): ReLU(inplace=True)\n",
       "      (conv2): Conv2d(128, 128, kernel_size=(3, 3), stride=(1, 1), padding=(1, 1), bias=False)\n",
       "      (bn2): BatchNorm2d(128, eps=1e-05, momentum=0.1, affine=True, track_running_stats=True)\n",
       "      (downsample): Sequential(\n",
       "        (0): Conv2d(64, 128, kernel_size=(1, 1), stride=(2, 2), bias=False)\n",
       "        (1): BatchNorm2d(128, eps=1e-05, momentum=0.1, affine=True, track_running_stats=True)\n",
       "      )\n",
       "    )\n",
       "    (1): BasicBlock(\n",
       "      (conv1): Conv2d(128, 128, kernel_size=(3, 3), stride=(1, 1), padding=(1, 1), bias=False)\n",
       "      (bn1): BatchNorm2d(128, eps=1e-05, momentum=0.1, affine=True, track_running_stats=True)\n",
       "      (relu): ReLU(inplace=True)\n",
       "      (conv2): Conv2d(128, 128, kernel_size=(3, 3), stride=(1, 1), padding=(1, 1), bias=False)\n",
       "      (bn2): BatchNorm2d(128, eps=1e-05, momentum=0.1, affine=True, track_running_stats=True)\n",
       "    )\n",
       "  )\n",
       "  (layer3): Sequential(\n",
       "    (0): BasicBlock(\n",
       "      (conv1): Conv2d(128, 256, kernel_size=(3, 3), stride=(2, 2), padding=(1, 1), bias=False)\n",
       "      (bn1): BatchNorm2d(256, eps=1e-05, momentum=0.1, affine=True, track_running_stats=True)\n",
       "      (relu): ReLU(inplace=True)\n",
       "      (conv2): Conv2d(256, 256, kernel_size=(3, 3), stride=(1, 1), padding=(1, 1), bias=False)\n",
       "      (bn2): BatchNorm2d(256, eps=1e-05, momentum=0.1, affine=True, track_running_stats=True)\n",
       "      (downsample): Sequential(\n",
       "        (0): Conv2d(128, 256, kernel_size=(1, 1), stride=(2, 2), bias=False)\n",
       "        (1): BatchNorm2d(256, eps=1e-05, momentum=0.1, affine=True, track_running_stats=True)\n",
       "      )\n",
       "    )\n",
       "    (1): BasicBlock(\n",
       "      (conv1): Conv2d(256, 256, kernel_size=(3, 3), stride=(1, 1), padding=(1, 1), bias=False)\n",
       "      (bn1): BatchNorm2d(256, eps=1e-05, momentum=0.1, affine=True, track_running_stats=True)\n",
       "      (relu): ReLU(inplace=True)\n",
       "      (conv2): Conv2d(256, 256, kernel_size=(3, 3), stride=(1, 1), padding=(1, 1), bias=False)\n",
       "      (bn2): BatchNorm2d(256, eps=1e-05, momentum=0.1, affine=True, track_running_stats=True)\n",
       "    )\n",
       "  )\n",
       "  (layer4): Sequential(\n",
       "    (0): BasicBlock(\n",
       "      (conv1): Conv2d(256, 512, kernel_size=(3, 3), stride=(2, 2), padding=(1, 1), bias=False)\n",
       "      (bn1): BatchNorm2d(512, eps=1e-05, momentum=0.1, affine=True, track_running_stats=True)\n",
       "      (relu): ReLU(inplace=True)\n",
       "      (conv2): Conv2d(512, 512, kernel_size=(3, 3), stride=(1, 1), padding=(1, 1), bias=False)\n",
       "      (bn2): BatchNorm2d(512, eps=1e-05, momentum=0.1, affine=True, track_running_stats=True)\n",
       "      (downsample): Sequential(\n",
       "        (0): Conv2d(256, 512, kernel_size=(1, 1), stride=(2, 2), bias=False)\n",
       "        (1): BatchNorm2d(512, eps=1e-05, momentum=0.1, affine=True, track_running_stats=True)\n",
       "      )\n",
       "    )\n",
       "    (1): BasicBlock(\n",
       "      (conv1): Conv2d(512, 512, kernel_size=(3, 3), stride=(1, 1), padding=(1, 1), bias=False)\n",
       "      (bn1): BatchNorm2d(512, eps=1e-05, momentum=0.1, affine=True, track_running_stats=True)\n",
       "      (relu): ReLU(inplace=True)\n",
       "      (conv2): Conv2d(512, 512, kernel_size=(3, 3), stride=(1, 1), padding=(1, 1), bias=False)\n",
       "      (bn2): BatchNorm2d(512, eps=1e-05, momentum=0.1, affine=True, track_running_stats=True)\n",
       "    )\n",
       "  )\n",
       "  (avgpool): AdaptiveAvgPool2d(output_size=(1, 1))\n",
       "  (fc): Linear(in_features=512, out_features=100, bias=True)\n",
       ")"
      ]
     },
     "execution_count": 4,
     "metadata": {},
     "output_type": "execute_result"
    }
   ],
   "source": [
    "import torch.nn as nn\n",
    "import torch.nn.functional as F\n",
    "\n",
    "\n",
    "model = torch.hub.load('pytorch/vision:v0.10.0', 'resnet18', pretrained=True)\n",
    "# model = torch.hub.load('pytorch/vision:v0.10.0', 'resnet34', pretrained=True)\n",
    "# model = torch.hub.load('pytorch/vision:v0.10.0', 'resnet50', pretrained=True)\n",
    "# model = torch.hub.load('pytorch/vision:v0.10.0', 'resnet101', pretrained=True)\n",
    "# model = torch.hub.load('pytorch/vision:v0.10.0', 'resnet152', pretrained=True)\n",
    "\n",
    "model.fc.out_features = 100\n",
    "\n",
    "model.eval()"
   ]
  },
  {
   "cell_type": "markdown",
   "metadata": {},
   "source": [
    "## 3. 定义损失函数和优化器\n"
   ]
  },
  {
   "cell_type": "code",
   "execution_count": 5,
   "metadata": {},
   "outputs": [
    {
     "data": {
      "text/plain": [
       "ResNet(\n",
       "  (conv1): Conv2d(3, 64, kernel_size=(7, 7), stride=(2, 2), padding=(3, 3), bias=False)\n",
       "  (bn1): BatchNorm2d(64, eps=1e-05, momentum=0.1, affine=True, track_running_stats=True)\n",
       "  (relu): ReLU(inplace=True)\n",
       "  (maxpool): MaxPool2d(kernel_size=3, stride=2, padding=1, dilation=1, ceil_mode=False)\n",
       "  (layer1): Sequential(\n",
       "    (0): BasicBlock(\n",
       "      (conv1): Conv2d(64, 64, kernel_size=(3, 3), stride=(1, 1), padding=(1, 1), bias=False)\n",
       "      (bn1): BatchNorm2d(64, eps=1e-05, momentum=0.1, affine=True, track_running_stats=True)\n",
       "      (relu): ReLU(inplace=True)\n",
       "      (conv2): Conv2d(64, 64, kernel_size=(3, 3), stride=(1, 1), padding=(1, 1), bias=False)\n",
       "      (bn2): BatchNorm2d(64, eps=1e-05, momentum=0.1, affine=True, track_running_stats=True)\n",
       "    )\n",
       "    (1): BasicBlock(\n",
       "      (conv1): Conv2d(64, 64, kernel_size=(3, 3), stride=(1, 1), padding=(1, 1), bias=False)\n",
       "      (bn1): BatchNorm2d(64, eps=1e-05, momentum=0.1, affine=True, track_running_stats=True)\n",
       "      (relu): ReLU(inplace=True)\n",
       "      (conv2): Conv2d(64, 64, kernel_size=(3, 3), stride=(1, 1), padding=(1, 1), bias=False)\n",
       "      (bn2): BatchNorm2d(64, eps=1e-05, momentum=0.1, affine=True, track_running_stats=True)\n",
       "    )\n",
       "  )\n",
       "  (layer2): Sequential(\n",
       "    (0): BasicBlock(\n",
       "      (conv1): Conv2d(64, 128, kernel_size=(3, 3), stride=(2, 2), padding=(1, 1), bias=False)\n",
       "      (bn1): BatchNorm2d(128, eps=1e-05, momentum=0.1, affine=True, track_running_stats=True)\n",
       "      (relu): ReLU(inplace=True)\n",
       "      (conv2): Conv2d(128, 128, kernel_size=(3, 3), stride=(1, 1), padding=(1, 1), bias=False)\n",
       "      (bn2): BatchNorm2d(128, eps=1e-05, momentum=0.1, affine=True, track_running_stats=True)\n",
       "      (downsample): Sequential(\n",
       "        (0): Conv2d(64, 128, kernel_size=(1, 1), stride=(2, 2), bias=False)\n",
       "        (1): BatchNorm2d(128, eps=1e-05, momentum=0.1, affine=True, track_running_stats=True)\n",
       "      )\n",
       "    )\n",
       "    (1): BasicBlock(\n",
       "      (conv1): Conv2d(128, 128, kernel_size=(3, 3), stride=(1, 1), padding=(1, 1), bias=False)\n",
       "      (bn1): BatchNorm2d(128, eps=1e-05, momentum=0.1, affine=True, track_running_stats=True)\n",
       "      (relu): ReLU(inplace=True)\n",
       "      (conv2): Conv2d(128, 128, kernel_size=(3, 3), stride=(1, 1), padding=(1, 1), bias=False)\n",
       "      (bn2): BatchNorm2d(128, eps=1e-05, momentum=0.1, affine=True, track_running_stats=True)\n",
       "    )\n",
       "  )\n",
       "  (layer3): Sequential(\n",
       "    (0): BasicBlock(\n",
       "      (conv1): Conv2d(128, 256, kernel_size=(3, 3), stride=(2, 2), padding=(1, 1), bias=False)\n",
       "      (bn1): BatchNorm2d(256, eps=1e-05, momentum=0.1, affine=True, track_running_stats=True)\n",
       "      (relu): ReLU(inplace=True)\n",
       "      (conv2): Conv2d(256, 256, kernel_size=(3, 3), stride=(1, 1), padding=(1, 1), bias=False)\n",
       "      (bn2): BatchNorm2d(256, eps=1e-05, momentum=0.1, affine=True, track_running_stats=True)\n",
       "      (downsample): Sequential(\n",
       "        (0): Conv2d(128, 256, kernel_size=(1, 1), stride=(2, 2), bias=False)\n",
       "        (1): BatchNorm2d(256, eps=1e-05, momentum=0.1, affine=True, track_running_stats=True)\n",
       "      )\n",
       "    )\n",
       "    (1): BasicBlock(\n",
       "      (conv1): Conv2d(256, 256, kernel_size=(3, 3), stride=(1, 1), padding=(1, 1), bias=False)\n",
       "      (bn1): BatchNorm2d(256, eps=1e-05, momentum=0.1, affine=True, track_running_stats=True)\n",
       "      (relu): ReLU(inplace=True)\n",
       "      (conv2): Conv2d(256, 256, kernel_size=(3, 3), stride=(1, 1), padding=(1, 1), bias=False)\n",
       "      (bn2): BatchNorm2d(256, eps=1e-05, momentum=0.1, affine=True, track_running_stats=True)\n",
       "    )\n",
       "  )\n",
       "  (layer4): Sequential(\n",
       "    (0): BasicBlock(\n",
       "      (conv1): Conv2d(256, 512, kernel_size=(3, 3), stride=(2, 2), padding=(1, 1), bias=False)\n",
       "      (bn1): BatchNorm2d(512, eps=1e-05, momentum=0.1, affine=True, track_running_stats=True)\n",
       "      (relu): ReLU(inplace=True)\n",
       "      (conv2): Conv2d(512, 512, kernel_size=(3, 3), stride=(1, 1), padding=(1, 1), bias=False)\n",
       "      (bn2): BatchNorm2d(512, eps=1e-05, momentum=0.1, affine=True, track_running_stats=True)\n",
       "      (downsample): Sequential(\n",
       "        (0): Conv2d(256, 512, kernel_size=(1, 1), stride=(2, 2), bias=False)\n",
       "        (1): BatchNorm2d(512, eps=1e-05, momentum=0.1, affine=True, track_running_stats=True)\n",
       "      )\n",
       "    )\n",
       "    (1): BasicBlock(\n",
       "      (conv1): Conv2d(512, 512, kernel_size=(3, 3), stride=(1, 1), padding=(1, 1), bias=False)\n",
       "      (bn1): BatchNorm2d(512, eps=1e-05, momentum=0.1, affine=True, track_running_stats=True)\n",
       "      (relu): ReLU(inplace=True)\n",
       "      (conv2): Conv2d(512, 512, kernel_size=(3, 3), stride=(1, 1), padding=(1, 1), bias=False)\n",
       "      (bn2): BatchNorm2d(512, eps=1e-05, momentum=0.1, affine=True, track_running_stats=True)\n",
       "    )\n",
       "  )\n",
       "  (avgpool): AdaptiveAvgPool2d(output_size=(1, 1))\n",
       "  (fc): Linear(in_features=512, out_features=100, bias=True)\n",
       ")"
      ]
     },
     "execution_count": 5,
     "metadata": {},
     "output_type": "execute_result"
    }
   ],
   "source": [
    "import torch.optim as optim\n",
    "\n",
    "criterion = nn.CrossEntropyLoss()\n",
    "\n",
    "model.to(device)"
   ]
  },
  {
   "cell_type": "markdown",
   "metadata": {},
   "source": [
    "## 4. 训练网络\n"
   ]
  },
  {
   "cell_type": "code",
   "execution_count": 6,
   "metadata": {},
   "outputs": [
    {
     "name": "stdout",
     "output_type": "stream",
     "text": [
      "[1,  2000] loss: 4.025\n",
      "[1,  4000] loss: 3.007\n",
      "[1,  6000] loss: 2.688\n",
      "[1,  8000] loss: 2.467\n",
      "[1, 10000] loss: 2.397\n",
      "[1, 12000] loss: 2.268\n",
      "10000 测试集的准确率: 41 %\n",
      "[2,  2000] loss: 1.996\n",
      "[2,  4000] loss: 1.951\n",
      "[2,  6000] loss: 1.895\n",
      "[2,  8000] loss: 1.930\n",
      "[2, 10000] loss: 1.875\n",
      "[2, 12000] loss: 1.867\n",
      "10000 测试集的准确率: 48 %\n",
      "[3,  2000] loss: 1.541\n",
      "[3,  4000] loss: 1.566\n",
      "[3,  6000] loss: 1.552\n",
      "[3,  8000] loss: 1.537\n",
      "[3, 10000] loss: 1.562\n",
      "[3, 12000] loss: 1.559\n",
      "10000 测试集的准确率: 49 %\n",
      "[4,  2000] loss: 1.246\n",
      "[4,  4000] loss: 1.237\n",
      "[4,  6000] loss: 1.245\n",
      "[4,  8000] loss: 1.261\n",
      "[4, 10000] loss: 1.293\n",
      "[4, 12000] loss: 1.318\n",
      "10000 测试集的准确率: 52 %\n",
      "Finished Training\n"
     ]
    }
   ],
   "source": [
    "def test():\n",
    "\tcorrect = 0\n",
    "\ttotal = 0\n",
    "\t# 因为我们不需要进行梯度计算，所以我们使用 torch.no_grad() 来减少内存开销\n",
    "\twith torch.no_grad():\n",
    "\t\tfor data in testloader:\n",
    "\t\t\tinputs, labels = data\n",
    "\t\t\tinputs, labels = inputs.to(device), labels.to(device)\n",
    "\t\t\toutputs = model(inputs)\n",
    "\t\t\t_, predicted = torch.max(outputs.data, 1) # 取得分最高的那个类 (outputs.data 的索引号)\n",
    "\t\t\ttotal += labels.size(0) # 统计测试数据集的数量\n",
    "\t\t\tcorrect += (predicted == labels).sum().item() # 统计预测正确的数量\n",
    "\tprint(f'10000 测试集的准确率: {100 * correct // total} %')\n",
    "\n",
    "optimSGD = optim.SGD(model.parameters(), lr=0.001, momentum=0.9)\n",
    "optimAdam = optim.Adam(model.parameters(), lr=0.0001)\n",
    "\n",
    "def train(epoches=4, optimizer=optimSGD):\n",
    "\tfor epoch in range(epoches):  # 循环遍历数据集多次\n",
    "\t\trunning_loss = 0.0\n",
    "\t\tfor i, data in enumerate(trainloader, 0):\n",
    "\t\t\t# enumerate() 函数用于将一个可遍历的数据对象 (如列表、元组或字符串) 组合为一个索引序列，\n",
    "\t\t\t# 同时列出数据和数据下标，一般用在 for 循环当中。\n",
    "\t\t\tinputs, labels = data # 获取输入，形式为 [inputs, labels]\n",
    "\t\t\tinputs, labels = inputs.to(device), labels.to(device)\n",
    "\n",
    "\t\t\toptimizer.zero_grad()\n",
    "\n",
    "\t\t\toutputs = model(inputs)\n",
    "\t\t\tloss = criterion(outputs, labels)\n",
    "\t\t\tloss.backward()\n",
    "\t\t\toptimizer.step()\n",
    "\n",
    "\t\t\t# 打印状态信息\n",
    "\t\t\trunning_loss += loss.item()\n",
    "\t\t\tif i % 2000 == 1999: # 每 2000 个 mini-batches 打印一次训练状态\n",
    "\t\t\t\tprint(f'[{epoch + 1}, {i + 1:5d}] loss: {running_loss / 2000:.3f}')\n",
    "\t\t\t\trunning_loss = 0.0\n",
    "\t\ttest()\n",
    "\tprint('Finished Training')\n",
    "\n",
    "train(4, optimAdam)"
   ]
  },
  {
   "cell_type": "markdown",
   "metadata": {},
   "source": [
    "保存训练好的模型\n"
   ]
  },
  {
   "cell_type": "code",
   "execution_count": 7,
   "metadata": {},
   "outputs": [],
   "source": [
    "PATH = './cifar_net.pth'\n",
    "torch.save(model.state_dict(), PATH)\n"
   ]
  },
  {
   "cell_type": "markdown",
   "metadata": {},
   "source": [
    "## 5. 在测试集上测试网络\n"
   ]
  },
  {
   "cell_type": "markdown",
   "metadata": {},
   "source": [
    "准备\n"
   ]
  },
  {
   "cell_type": "code",
   "execution_count": 8,
   "metadata": {},
   "outputs": [
    {
     "name": "stderr",
     "output_type": "stream",
     "text": [
      "Using cache found in C:\\Users\\BobYu/.cache\\torch\\hub\\pytorch_vision_v0.10.0\n"
     ]
    }
   ],
   "source": [
    "model = torch.hub.load('pytorch/vision:v0.10.0', 'resnet18')\n",
    "model.load_state_dict(torch.load(PATH))\n",
    "\n",
    "import matplotlib.pyplot as plt\n",
    "import numpy as np\n",
    "\n",
    "# 显示图像的函数\n",
    "def imshow(img):\n",
    "    img = img / 2 + 0.5  # 去归一化\n",
    "    npimg = img.numpy()\n",
    "    plt.imshow(np.transpose(npimg, (1, 2, 0)))\n",
    "    plt.show()\n"
   ]
  },
  {
   "cell_type": "markdown",
   "metadata": {},
   "source": [
    "第一个 batch 展示\n"
   ]
  },
  {
   "cell_type": "code",
   "execution_count": 9,
   "metadata": {},
   "outputs": [
    {
     "name": "stderr",
     "output_type": "stream",
     "text": [
      "Clipping input data to the valid range for imshow with RGB data ([0..1] for floats or [0..255] for integers).\n"
     ]
    },
    {
     "data": {
      "image/png": "[encoded data removed]",
      "text/plain": [
       "<Figure size 640x480 with 1 Axes>"
      ]
     },
     "metadata": {},
     "output_type": "display_data"
    },
    {
     "name": "stdout",
     "output_type": "stream",
     "text": [
      "GroundTruth:  mountain forest seal  mushroom\n"
     ]
    }
   ],
   "source": [
    "dataiter = iter(testloader) # 获取测试数据集的迭代器\n",
    "inputs, labels = next(dataiter) # 获取测试数据集的第一个 batch\n",
    "\n",
    "imshow(torchvision.utils.make_grid(inputs))\n",
    "print('GroundTruth: ', ' '.join(f'{classes[labels[j]]:5s}' for j in range(4)))\n"
   ]
  },
  {
   "cell_type": "markdown",
   "metadata": {},
   "source": [
    "第一个 batch 的预测结果\n"
   ]
  },
  {
   "cell_type": "code",
   "execution_count": 10,
   "metadata": {},
   "outputs": [
    {
     "name": "stdout",
     "output_type": "stream",
     "text": [
      "tensor([[-51.7199, -48.0513, -54.8906,  ..., -50.6357, -48.9509, -41.1081],\n",
      "        [-37.0125, -32.8542, -41.2634,  ..., -42.2772, -37.3055, -43.0275],\n",
      "        [-43.1007, -39.3542, -42.9733,  ..., -39.5827, -41.3898, -39.9700],\n",
      "        [-10.9583,  -5.4510,  -7.3679,  ..., -28.1055, -28.4475, -26.2916]],\n",
      "       grad_fn=<AddmmBackward0>)\n",
      "Predicted:  can   forest beetle mushroom\n"
     ]
    }
   ],
   "source": [
    "outputs = model(inputs)\n",
    "print(outputs)\n",
    "\n",
    "_, predicted = torch.max(outputs, 1) # 获取最大值的索引\n",
    "\n",
    "print('Predicted: ', ' '.join(f'{classes[predicted[j]]:5s}'\n",
    "                              for j in range(4)))\n"
   ]
  },
  {
   "cell_type": "markdown",
   "metadata": {},
   "source": [
    "总准确率\n"
   ]
  },
  {
   "cell_type": "code",
   "execution_count": 11,
   "metadata": {},
   "outputs": [
    {
     "name": "stdout",
     "output_type": "stream",
     "text": [
      "10000 测试集的准确率: 11 %\n"
     ]
    }
   ],
   "source": [
    "correct = 0\n",
    "total = 0\n",
    "# 因为我们不需要进行梯度计算，所以我们使用 torch.no_grad() 来减少内存开销\n",
    "with torch.no_grad():\n",
    "    for data in testloader:\n",
    "        inputs, labels = data\n",
    "        outputs = model(inputs)\n",
    "        _, predicted = torch.max(outputs.data, 1) # 取得分最高的那个类 (outputs.data 的索引号)\n",
    "        total += labels.size(0) # 统计测试数据集的数量\n",
    "        correct += (predicted == labels).sum().item() # 统计预测正确的数量\n",
    "\n",
    "print(f'10000 测试集的准确率: {100 * correct // total} %')\n"
   ]
  },
  {
   "cell_type": "markdown",
   "metadata": {},
   "source": [
    "每个类别的准确率"
   ]
  },
  {
   "cell_type": "code",
   "execution_count": 12,
   "metadata": {},
   "outputs": [
    {
     "name": "stdout",
     "output_type": "stream",
     "text": [
      "Accuracy for class: apple is 9.0 %\n",
      "Accuracy for class: aquarium_fish is 21.0 %\n",
      "Accuracy for class: baby  is 8.0 %\n",
      "Accuracy for class: bear  is 0.0 %\n",
      "Accuracy for class: beaver is 2.0 %\n",
      "Accuracy for class: bed   is 10.0 %\n",
      "Accuracy for class: bee   is 12.0 %\n",
      "Accuracy for class: beetle is 20.0 %\n",
      "Accuracy for class: bicycle is 1.0 %\n",
      "Accuracy for class: bottle is 10.0 %\n",
      "Accuracy for class: bowl  is 11.0 %\n",
      "Accuracy for class: boy   is 0.0 %\n",
      "Accuracy for class: bridge is 4.0 %\n",
      "Accuracy for class: bus   is 21.0 %\n",
      "Accuracy for class: butterfly is 12.0 %\n",
      "Accuracy for class: camel is 8.0 %\n",
      "Accuracy for class: can   is 41.0 %\n",
      "Accuracy for class: castle is 6.0 %\n",
      "Accuracy for class: caterpillar is 22.0 %\n",
      "Accuracy for class: cattle is 10.0 %\n",
      "Accuracy for class: chair is 13.0 %\n",
      "Accuracy for class: chimpanzee is 6.0 %\n",
      "Accuracy for class: clock is 0.0 %\n",
      "Accuracy for class: cloud is 32.0 %\n",
      "Accuracy for class: cockroach is 4.0 %\n",
      "Accuracy for class: couch is 35.0 %\n",
      "Accuracy for class: cra   is 9.0 %\n",
      "Accuracy for class: crocodile is 2.0 %\n",
      "Accuracy for class: cup   is 36.0 %\n",
      "Accuracy for class: dinosaur is 18.0 %\n",
      "Accuracy for class: dolphin is 3.0 %\n",
      "Accuracy for class: elephant is 6.0 %\n",
      "Accuracy for class: flatfish is 9.0 %\n",
      "Accuracy for class: forest is 11.0 %\n",
      "Accuracy for class: fox   is 7.0 %\n",
      "Accuracy for class: girl  is 0.0 %\n",
      "Accuracy for class: hamster is 10.0 %\n",
      "Accuracy for class: house is 1.0 %\n",
      "Accuracy for class: kangaroo is 7.0 %\n",
      "Accuracy for class: keyboard is 31.0 %\n",
      "Accuracy for class: lamp  is 26.0 %\n",
      "Accuracy for class: lawn_mower is 21.0 %\n",
      "Accuracy for class: leopard is 18.0 %\n",
      "Accuracy for class: lion  is 25.0 %\n",
      "Accuracy for class: lizard is 0.0 %\n",
      "Accuracy for class: lobster is 9.0 %\n",
      "Accuracy for class: man   is 0.0 %\n",
      "Accuracy for class: maple_tree is 32.0 %\n",
      "Accuracy for class: motorcycle is 5.0 %\n",
      "Accuracy for class: mountain is 13.0 %\n",
      "Accuracy for class: mouse is 2.0 %\n",
      "Accuracy for class: mushroom is 17.0 %\n",
      "Accuracy for class: oak_tree is 0.0 %\n",
      "Accuracy for class: orange is 5.0 %\n",
      "Accuracy for class: orchid is 7.0 %\n",
      "Accuracy for class: otter is 3.0 %\n",
      "Accuracy for class: palm_tree is 22.0 %\n",
      "Accuracy for class: pear  is 17.0 %\n",
      "Accuracy for class: pickup_truck is 4.0 %\n",
      "Accuracy for class: pine_tree is 18.0 %\n",
      "Accuracy for class: plain is 1.0 %\n",
      "Accuracy for class: plate is 5.0 %\n",
      "Accuracy for class: poppy is 6.0 %\n",
      "Accuracy for class: porcupine is 22.0 %\n",
      "Accuracy for class: possum is 8.0 %\n",
      "Accuracy for class: rabbit is 1.0 %\n",
      "Accuracy for class: raccoon is 8.0 %\n",
      "Accuracy for class: ray   is 14.0 %\n",
      "Accuracy for class: road  is 0.0 %\n",
      "Accuracy for class: rocket is 28.0 %\n",
      "Accuracy for class: rose  is 9.0 %\n",
      "Accuracy for class: sea   is 5.0 %\n",
      "Accuracy for class: seal  is 2.0 %\n",
      "Accuracy for class: shark is 3.0 %\n",
      "Accuracy for class: shrew is 5.0 %\n",
      "Accuracy for class: skunk is 21.0 %\n",
      "Accuracy for class: skyscraper is 44.0 %\n",
      "Accuracy for class: snail is 4.0 %\n",
      "Accuracy for class: snake is 26.0 %\n",
      "Accuracy for class: spider is 3.0 %\n",
      "Accuracy for class: squirrel is 8.0 %\n",
      "Accuracy for class: streetcar is 5.0 %\n",
      "Accuracy for class: sunflower is 2.0 %\n",
      "Accuracy for class: sweet_pepper is 36.0 %\n",
      "Accuracy for class: table is 6.0 %\n",
      "Accuracy for class: tank  is 11.0 %\n",
      "Accuracy for class: telephone is 10.0 %\n",
      "Accuracy for class: television is 7.0 %\n",
      "Accuracy for class: tiger is 4.0 %\n",
      "Accuracy for class: tractor is 7.0 %\n",
      "Accuracy for class: train is 1.0 %\n",
      "Accuracy for class: trout is 19.0 %\n",
      "Accuracy for class: tulip is 0.0 %\n",
      "Accuracy for class: turtle is 4.0 %\n",
      "Accuracy for class: wardrobe is 39.0 %\n",
      "Accuracy for class: whale is 11.0 %\n",
      "Accuracy for class: willow_tree is 3.0 %\n",
      "Accuracy for class: wolf  is 14.0 %\n",
      "Accuracy for class: woman is 4.0 %\n",
      "Accuracy for class: worm  is 18.0 %\n"
     ]
    }
   ],
   "source": [
    "# 统计每个类别的预测情况\n",
    "# 形式为字典：{类别名称: 数量}\n",
    "correct_pred = {classname: 0 for classname in classes}\n",
    "total_pred = {classname: 0 for classname in classes}\n",
    "\n",
    "with torch.no_grad():\n",
    "    for data in testloader:\n",
    "        inputs, labels = data\n",
    "        outputs = model(inputs)\n",
    "        _, predictions = torch.max(outputs, 1)\n",
    "\t\t# zip() 函数用于将可迭代的对象作为参数，将对象中对应的元素打包成一个个元组，然后返回由这些元组组成的对象\n",
    "        for label, prediction in zip(labels, predictions):\n",
    "            if label == prediction:\n",
    "                correct_pred[classes[label]] += 1\n",
    "            total_pred[classes[label]] += 1\n",
    "\n",
    "for classname, correct_count in correct_pred.items():\n",
    "    accuracy = 100 * float(correct_count) / total_pred[classname]\n",
    "    print(f'Accuracy for class: {classname:5s} is {accuracy:.1f} %')\n"
   ]
  }
 ],
 "metadata": {
  "kernelspec": {
   "display_name": "Python 3 (ipykernel)",
   "language": "python",
   "name": "python3"
  },
  "language_info": {
   "codemirror_mode": {
    "name": "ipython",
    "version": 3
   },
   "file_extension": ".py",
   "mimetype": "text/x-python",
   "name": "python",
   "nbconvert_exporter": "python",
   "pygments_lexer": "ipython3",
   "version": "3.10.8"
  },
  "vscode": {
   "interpreter": {
    "hash": "aacb857bf6db5594d28e7b855998c242ff58b8f7d53c3e9d49ea4a759a82bec0"
   }
  }
 },
 "nbformat": 4,
 "nbformat_minor": 2
}
