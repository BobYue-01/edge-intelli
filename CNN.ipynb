{
 "cells": [
  {
   "cell_type": "code",
   "execution_count": 1,
   "metadata": {},
   "outputs": [],
   "source": [
    "import torch\n",
    "import torchvision\n",
    "import torchvision.transforms as transforms\n"
   ]
  },
  {
   "cell_type": "markdown",
   "metadata": {},
   "source": [
    "# 实战：训练图像分类器\n",
    "\n",
    "我们将上一节的内容投入实战，训练一个图像分类器来对 CIFAR10 数据集中的图像进行分类。\n"
   ]
  },
  {
   "cell_type": "markdown",
   "metadata": {},
   "source": [
    "## 1. 加载和标准化 CIFAR-10\n",
    "\n",
    "CIFAR-10 是一个常用的数据集，包含 10 个类别的 60000 张 32x32 的彩色图像。训练集中每个类别有 5000 张图像，测试集中每个类别有 1000 张图像。\n",
    "\n",
    "![CIFAR-10 数据集中的图像示例](https://pytorch.org/tutorials/_images/cifar10.png)\n",
    "\n",
    "我们将使用 torchvision 来加载 CIFAR-10 数据集。\n",
    "\n",
    "我们还需要对数据进行归一化、标准化。归一化即将数据映射到 $[0,1]$ 区间，标准化即将数据映射到均值为 0，标准差为 1 的分布中（减去均值，再除以标准差）。\n"
   ]
  },
  {
   "cell_type": "code",
   "execution_count": 2,
   "metadata": {},
   "outputs": [
    {
     "name": "stdout",
     "output_type": "stream",
     "text": [
      "Files already downloaded and verified\n",
      "Files already downloaded and verified\n"
     ]
    }
   ],
   "source": [
    "import torchvision\n",
    "import torchvision.transforms as transforms\n",
    "\n",
    "transform = transforms.Compose(\n",
    "\t[transforms.ToTensor(),\n",
    "\t transforms.Normalize((0.5, 0.5, 0.5), (0.5, 0.5, 0.5))]) # 归一化\n",
    "\n",
    "batch_size = 4 # 批处理大小\n",
    "\n",
    "trainset = torchvision.datasets.CIFAR100(root='./data', train=True,\n",
    "                                        download=True, transform=transform) # 下载训练数据集\n",
    "trainloader = torch.utils.data.DataLoader(trainset, batch_size=batch_size,\n",
    "                                          shuffle=True, num_workers=2) # 加载训练数据集\n",
    "\n",
    "testset = torchvision.datasets.CIFAR100(root='./data', train=False,\n",
    "                                       download=True, transform=transform) # 下载测试数据集\n",
    "testloader = torch.utils.data.DataLoader(testset, batch_size=batch_size,\n",
    "                                         shuffle=False, num_workers=2) # 加载测试数据集\n",
    "\n",
    "classes = (\n",
    "\t\"apple\",\n",
    "\t\"aquarium_fish\",\n",
    "\t\"baby\",\n",
    "\t\"bear\",\n",
    "\t\"beaver\",\n",
    "\t\"bed\",\n",
    "\t\"bee\",\n",
    "\t\"beetle\",\n",
    "\t\"bicycle\",\n",
    "\t\"bottle\",\n",
    "\t\"bowl\",\n",
    "\t\"boy\",\n",
    "\t\"bridge\",\n",
    "\t\"bus\",\n",
    "\t\"butterfly\",\n",
    "\t\"camel\",\n",
    "\t\"can\",\n",
    "\t\"castle\",\n",
    "\t\"caterpillar\",\n",
    "\t\"cattle\",\n",
    "\t\"chair\",\n",
    "\t\"chimpanzee\",\n",
    "\t\"clock\",\n",
    "\t\"cloud\",\n",
    "\t\"cockroach\",\n",
    "\t\"couch\",\n",
    "\t\"cra\",\n",
    "\t\"crocodile\",\n",
    "\t\"cup\",\n",
    "\t\"dinosaur\",\n",
    "\t\"dolphin\",\n",
    "\t\"elephant\",\n",
    "\t\"flatfish\",\n",
    "\t\"forest\",\n",
    "\t\"fox\",\n",
    "\t\"girl\",\n",
    "\t\"hamster\",\n",
    "\t\"house\",\n",
    "\t\"kangaroo\",\n",
    "\t\"keyboard\",\n",
    "\t\"lamp\",\n",
    "\t\"lawn_mower\",\n",
    "\t\"leopard\",\n",
    "\t\"lion\",\n",
    "\t\"lizard\",\n",
    "\t\"lobster\",\n",
    "\t\"man\",\n",
    "\t\"maple_tree\",\n",
    "\t\"motorcycle\",\n",
    "\t\"mountain\",\n",
    "\t\"mouse\",\n",
    "\t\"mushroom\",\n",
    "\t\"oak_tree\",\n",
    "\t\"orange\",\n",
    "\t\"orchid\",\n",
    "\t\"otter\",\n",
    "\t\"palm_tree\",\n",
    "\t\"pear\",\n",
    "\t\"pickup_truck\",\n",
    "\t\"pine_tree\",\n",
    "\t\"plain\",\n",
    "\t\"plate\",\n",
    "\t\"poppy\",\n",
    "\t\"porcupine\",\n",
    "\t\"possum\",\n",
    "\t\"rabbit\",\n",
    "\t\"raccoon\",\n",
    "\t\"ray\",\n",
    "\t\"road\",\n",
    "\t\"rocket\",\n",
    "\t\"rose\",\n",
    "\t\"sea\",\n",
    "\t\"seal\",\n",
    "\t\"shark\",\n",
    "\t\"shrew\",\n",
    "\t\"skunk\",\n",
    "\t\"skyscraper\",\n",
    "\t\"snail\",\n",
    "\t\"snake\",\n",
    "\t\"spider\",\n",
    "\t\"squirrel\",\n",
    "\t\"streetcar\",\n",
    "\t\"sunflower\",\n",
    "\t\"sweet_pepper\",\n",
    "\t\"table\",\n",
    "\t\"tank\",\n",
    "\t\"telephone\",\n",
    "\t\"television\",\n",
    "\t\"tiger\",\n",
    "\t\"tractor\",\n",
    "\t\"train\",\n",
    "\t\"trout\",\n",
    "\t\"tulip\",\n",
    "\t\"turtle\",\n",
    "\t\"wardrobe\",\n",
    "\t\"whale\",\n",
    "\t\"willow_tree\",\n",
    "\t\"wolf\",\n",
    "\t\"woman\",\n",
    "\t\"worm\",\n",
    ") # 类别\n"
   ]
  },
  {
   "cell_type": "code",
   "execution_count": 3,
   "metadata": {},
   "outputs": [],
   "source": [
    "device = torch.device(\"cuda\" if torch.cuda.is_available() else \"cpu\")"
   ]
  },
  {
   "cell_type": "markdown",
   "metadata": {},
   "source": [
    "## 2. 定义卷积神经网络\n",
    "\n",
    "这一次，我们需要将上一节的神经网络改为接受 RGB 三个通道的图像，而不是单通道的图像。\n"
   ]
  },
  {
   "cell_type": "code",
   "execution_count": 4,
   "metadata": {},
   "outputs": [],
   "source": [
    "import torch.nn as nn\n",
    "import torch.nn.functional as F\n",
    "\n",
    "\n",
    "class Net(nn.Module):\n",
    "    def __init__(self):\n",
    "        super().__init__()\n",
    "        self.conv1 = nn.Conv2d(3, 12, 5)\n",
    "        self.pool = nn.MaxPool2d(2, 2)\n",
    "        self.conv2 = nn.Conv2d(12, 32, 5)\n",
    "        self.fc1 = nn.Linear(32 * 5 * 5, 720)\n",
    "        self.fc2 = nn.Linear(720, 420)\n",
    "        self.fc3 = nn.Linear(420, 100)\n",
    "\n",
    "    def forward(self, x):\n",
    "        x = self.pool(F.relu(self.conv1(x)))\n",
    "        x = self.pool(F.relu(self.conv2(x)))\n",
    "        x = torch.flatten(x, 1)\n",
    "        x = F.relu(self.fc1(x))\n",
    "        x = F.relu(self.fc2(x))\n",
    "        x = self.fc3(x)\n",
    "        return x\n",
    "\n",
    "\n",
    "net = Net()\n"
   ]
  },
  {
   "cell_type": "markdown",
   "metadata": {},
   "source": [
    "## 3. 定义损失函数和优化器\n"
   ]
  },
  {
   "cell_type": "code",
   "execution_count": 5,
   "metadata": {},
   "outputs": [
    {
     "data": {
      "text/plain": [
       "Net(\n",
       "  (conv1): Conv2d(3, 12, kernel_size=(5, 5), stride=(1, 1))\n",
       "  (pool): MaxPool2d(kernel_size=2, stride=2, padding=0, dilation=1, ceil_mode=False)\n",
       "  (conv2): Conv2d(12, 32, kernel_size=(5, 5), stride=(1, 1))\n",
       "  (fc1): Linear(in_features=800, out_features=720, bias=True)\n",
       "  (fc2): Linear(in_features=720, out_features=420, bias=True)\n",
       "  (fc3): Linear(in_features=420, out_features=100, bias=True)\n",
       ")"
      ]
     },
     "execution_count": 5,
     "metadata": {},
     "output_type": "execute_result"
    }
   ],
   "source": [
    "import torch.optim as optim\n",
    "\n",
    "criterion = nn.CrossEntropyLoss()\n",
    "optimizer = optim.SGD(net.parameters(), lr=0.001, momentum=0.9)\n",
    "\n",
    "net.to(device)"
   ]
  },
  {
   "cell_type": "markdown",
   "metadata": {},
   "source": [
    "## 4. 训练网络\n"
   ]
  },
  {
   "cell_type": "code",
   "execution_count": 6,
   "metadata": {},
   "outputs": [
    {
     "name": "stdout",
     "output_type": "stream",
     "text": [
      "[1,  2000] loss: 4.593\n",
      "[1,  4000] loss: 4.389\n",
      "[1,  6000] loss: 4.098\n",
      "[1,  8000] loss: 3.932\n",
      "[1, 10000] loss: 3.797\n",
      "[1, 12000] loss: 3.693\n"
     ]
    },
    {
     "ename": "RuntimeError",
     "evalue": "Input type (torch.FloatTensor) and weight type (torch.cuda.FloatTensor) should be the same or input should be a MKLDNN tensor and weight is a dense tensor",
     "output_type": "error",
     "traceback": [
      "\u001b[1;31m---------------------------------------------------------------------------\u001b[0m",
      "\u001b[1;31mRuntimeError\u001b[0m                              Traceback (most recent call last)",
      "\u001b[1;32me:\\Code\\edge-intelli\\CNN.ipynb 单元格 12\u001b[0m line \u001b[0;36m2\n\u001b[0;32m     <a href='vscode-notebook-cell://ssh-remote%2Bremote/e%3A/Code/edge-intelli/CNN.ipynb#X50sdnNjb2RlLXJlbW90ZQ%3D%3D?line=26'>27</a>\u001b[0m \u001b[39mfor\u001b[39;00m data \u001b[39min\u001b[39;00m testloader:\n\u001b[0;32m     <a href='vscode-notebook-cell://ssh-remote%2Bremote/e%3A/Code/edge-intelli/CNN.ipynb#X50sdnNjb2RlLXJlbW90ZQ%3D%3D?line=27'>28</a>\u001b[0m \timages, labels \u001b[39m=\u001b[39m data\n\u001b[1;32m---> <a href='vscode-notebook-cell://ssh-remote%2Bremote/e%3A/Code/edge-intelli/CNN.ipynb#X50sdnNjb2RlLXJlbW90ZQ%3D%3D?line=28'>29</a>\u001b[0m \toutputs \u001b[39m=\u001b[39m net(images)\n\u001b[0;32m     <a href='vscode-notebook-cell://ssh-remote%2Bremote/e%3A/Code/edge-intelli/CNN.ipynb#X50sdnNjb2RlLXJlbW90ZQ%3D%3D?line=29'>30</a>\u001b[0m \t_, predicted \u001b[39m=\u001b[39m torch\u001b[39m.\u001b[39mmax(outputs\u001b[39m.\u001b[39mdata, \u001b[39m1\u001b[39m) \u001b[39m# 取得分最高的那个类 (outputs.data 的索引号)\u001b[39;00m\n\u001b[0;32m     <a href='vscode-notebook-cell://ssh-remote%2Bremote/e%3A/Code/edge-intelli/CNN.ipynb#X50sdnNjb2RlLXJlbW90ZQ%3D%3D?line=30'>31</a>\u001b[0m \ttotal \u001b[39m+\u001b[39m\u001b[39m=\u001b[39m labels\u001b[39m.\u001b[39msize(\u001b[39m0\u001b[39m) \u001b[39m# 统计测试数据集的数量\u001b[39;00m\n",
      "File \u001b[1;32mc:\\Users\\BobYu\\miniconda3\\envs\\PyTorch\\lib\\site-packages\\torch\\nn\\modules\\module.py:1194\u001b[0m, in \u001b[0;36mModule._call_impl\u001b[1;34m(self, *input, **kwargs)\u001b[0m\n\u001b[0;32m   1190\u001b[0m \u001b[39m# If we don't have any hooks, we want to skip the rest of the logic in\u001b[39;00m\n\u001b[0;32m   1191\u001b[0m \u001b[39m# this function, and just call forward.\u001b[39;00m\n\u001b[0;32m   1192\u001b[0m \u001b[39mif\u001b[39;00m \u001b[39mnot\u001b[39;00m (\u001b[39mself\u001b[39m\u001b[39m.\u001b[39m_backward_hooks \u001b[39mor\u001b[39;00m \u001b[39mself\u001b[39m\u001b[39m.\u001b[39m_forward_hooks \u001b[39mor\u001b[39;00m \u001b[39mself\u001b[39m\u001b[39m.\u001b[39m_forward_pre_hooks \u001b[39mor\u001b[39;00m _global_backward_hooks\n\u001b[0;32m   1193\u001b[0m         \u001b[39mor\u001b[39;00m _global_forward_hooks \u001b[39mor\u001b[39;00m _global_forward_pre_hooks):\n\u001b[1;32m-> 1194\u001b[0m     \u001b[39mreturn\u001b[39;00m forward_call(\u001b[39m*\u001b[39m\u001b[39minput\u001b[39m, \u001b[39m*\u001b[39m\u001b[39m*\u001b[39mkwargs)\n\u001b[0;32m   1195\u001b[0m \u001b[39m# Do not call functions when jit is used\u001b[39;00m\n\u001b[0;32m   1196\u001b[0m full_backward_hooks, non_full_backward_hooks \u001b[39m=\u001b[39m [], []\n",
      "\u001b[1;32me:\\Code\\edge-intelli\\CNN.ipynb 单元格 12\u001b[0m line \u001b[0;36m1\n\u001b[0;32m     <a href='vscode-notebook-cell://ssh-remote%2Bremote/e%3A/Code/edge-intelli/CNN.ipynb#X50sdnNjb2RlLXJlbW90ZQ%3D%3D?line=14'>15</a>\u001b[0m \u001b[39mdef\u001b[39;00m \u001b[39mforward\u001b[39m(\u001b[39mself\u001b[39m, x):\n\u001b[1;32m---> <a href='vscode-notebook-cell://ssh-remote%2Bremote/e%3A/Code/edge-intelli/CNN.ipynb#X50sdnNjb2RlLXJlbW90ZQ%3D%3D?line=15'>16</a>\u001b[0m     x \u001b[39m=\u001b[39m \u001b[39mself\u001b[39m\u001b[39m.\u001b[39mpool(F\u001b[39m.\u001b[39mrelu(\u001b[39mself\u001b[39;49m\u001b[39m.\u001b[39;49mconv1(x)))\n\u001b[0;32m     <a href='vscode-notebook-cell://ssh-remote%2Bremote/e%3A/Code/edge-intelli/CNN.ipynb#X50sdnNjb2RlLXJlbW90ZQ%3D%3D?line=16'>17</a>\u001b[0m     x \u001b[39m=\u001b[39m \u001b[39mself\u001b[39m\u001b[39m.\u001b[39mpool(F\u001b[39m.\u001b[39mrelu(\u001b[39mself\u001b[39m\u001b[39m.\u001b[39mconv2(x)))\n\u001b[0;32m     <a href='vscode-notebook-cell://ssh-remote%2Bremote/e%3A/Code/edge-intelli/CNN.ipynb#X50sdnNjb2RlLXJlbW90ZQ%3D%3D?line=17'>18</a>\u001b[0m     x \u001b[39m=\u001b[39m torch\u001b[39m.\u001b[39mflatten(x, \u001b[39m1\u001b[39m)\n",
      "File \u001b[1;32mc:\\Users\\BobYu\\miniconda3\\envs\\PyTorch\\lib\\site-packages\\torch\\nn\\modules\\module.py:1194\u001b[0m, in \u001b[0;36mModule._call_impl\u001b[1;34m(self, *input, **kwargs)\u001b[0m\n\u001b[0;32m   1190\u001b[0m \u001b[39m# If we don't have any hooks, we want to skip the rest of the logic in\u001b[39;00m\n\u001b[0;32m   1191\u001b[0m \u001b[39m# this function, and just call forward.\u001b[39;00m\n\u001b[0;32m   1192\u001b[0m \u001b[39mif\u001b[39;00m \u001b[39mnot\u001b[39;00m (\u001b[39mself\u001b[39m\u001b[39m.\u001b[39m_backward_hooks \u001b[39mor\u001b[39;00m \u001b[39mself\u001b[39m\u001b[39m.\u001b[39m_forward_hooks \u001b[39mor\u001b[39;00m \u001b[39mself\u001b[39m\u001b[39m.\u001b[39m_forward_pre_hooks \u001b[39mor\u001b[39;00m _global_backward_hooks\n\u001b[0;32m   1193\u001b[0m         \u001b[39mor\u001b[39;00m _global_forward_hooks \u001b[39mor\u001b[39;00m _global_forward_pre_hooks):\n\u001b[1;32m-> 1194\u001b[0m     \u001b[39mreturn\u001b[39;00m forward_call(\u001b[39m*\u001b[39m\u001b[39minput\u001b[39m, \u001b[39m*\u001b[39m\u001b[39m*\u001b[39mkwargs)\n\u001b[0;32m   1195\u001b[0m \u001b[39m# Do not call functions when jit is used\u001b[39;00m\n\u001b[0;32m   1196\u001b[0m full_backward_hooks, non_full_backward_hooks \u001b[39m=\u001b[39m [], []\n",
      "File \u001b[1;32mc:\\Users\\BobYu\\miniconda3\\envs\\PyTorch\\lib\\site-packages\\torch\\nn\\modules\\conv.py:463\u001b[0m, in \u001b[0;36mConv2d.forward\u001b[1;34m(self, input)\u001b[0m\n\u001b[0;32m    462\u001b[0m \u001b[39mdef\u001b[39;00m \u001b[39mforward\u001b[39m(\u001b[39mself\u001b[39m, \u001b[39minput\u001b[39m: Tensor) \u001b[39m-\u001b[39m\u001b[39m>\u001b[39m Tensor:\n\u001b[1;32m--> 463\u001b[0m     \u001b[39mreturn\u001b[39;00m \u001b[39mself\u001b[39;49m\u001b[39m.\u001b[39;49m_conv_forward(\u001b[39minput\u001b[39;49m, \u001b[39mself\u001b[39;49m\u001b[39m.\u001b[39;49mweight, \u001b[39mself\u001b[39;49m\u001b[39m.\u001b[39;49mbias)\n",
      "File \u001b[1;32mc:\\Users\\BobYu\\miniconda3\\envs\\PyTorch\\lib\\site-packages\\torch\\nn\\modules\\conv.py:459\u001b[0m, in \u001b[0;36mConv2d._conv_forward\u001b[1;34m(self, input, weight, bias)\u001b[0m\n\u001b[0;32m    455\u001b[0m \u001b[39mif\u001b[39;00m \u001b[39mself\u001b[39m\u001b[39m.\u001b[39mpadding_mode \u001b[39m!=\u001b[39m \u001b[39m'\u001b[39m\u001b[39mzeros\u001b[39m\u001b[39m'\u001b[39m:\n\u001b[0;32m    456\u001b[0m     \u001b[39mreturn\u001b[39;00m F\u001b[39m.\u001b[39mconv2d(F\u001b[39m.\u001b[39mpad(\u001b[39minput\u001b[39m, \u001b[39mself\u001b[39m\u001b[39m.\u001b[39m_reversed_padding_repeated_twice, mode\u001b[39m=\u001b[39m\u001b[39mself\u001b[39m\u001b[39m.\u001b[39mpadding_mode),\n\u001b[0;32m    457\u001b[0m                     weight, bias, \u001b[39mself\u001b[39m\u001b[39m.\u001b[39mstride,\n\u001b[0;32m    458\u001b[0m                     _pair(\u001b[39m0\u001b[39m), \u001b[39mself\u001b[39m\u001b[39m.\u001b[39mdilation, \u001b[39mself\u001b[39m\u001b[39m.\u001b[39mgroups)\n\u001b[1;32m--> 459\u001b[0m \u001b[39mreturn\u001b[39;00m F\u001b[39m.\u001b[39;49mconv2d(\u001b[39minput\u001b[39;49m, weight, bias, \u001b[39mself\u001b[39;49m\u001b[39m.\u001b[39;49mstride,\n\u001b[0;32m    460\u001b[0m                 \u001b[39mself\u001b[39;49m\u001b[39m.\u001b[39;49mpadding, \u001b[39mself\u001b[39;49m\u001b[39m.\u001b[39;49mdilation, \u001b[39mself\u001b[39;49m\u001b[39m.\u001b[39;49mgroups)\n",
      "\u001b[1;31mRuntimeError\u001b[0m: Input type (torch.FloatTensor) and weight type (torch.cuda.FloatTensor) should be the same or input should be a MKLDNN tensor and weight is a dense tensor"
     ]
    }
   ],
   "source": [
    "for epoch in range(16):  # 循环遍历数据集多次\n",
    "\n",
    "\trunning_loss = 0.0\n",
    "\tfor i, data in enumerate(trainloader, 0):\n",
    "\t\t# enumerate() 函数用于将一个可遍历的数据对象 (如列表、元组或字符串) 组合为一个索引序列，\n",
    "\t\t# 同时列出数据和数据下标，一般用在 for 循环当中。\n",
    "\t\tinputs, labels = data # 获取输入，形式为 [inputs, labels]\n",
    "\t\tinputs, labels = inputs.to(device), labels.to(device)\n",
    "\n",
    "\t\toptimizer.zero_grad()\n",
    "\n",
    "\t\toutputs = net(inputs)\n",
    "\t\tloss = criterion(outputs, labels)\n",
    "\t\tloss.backward()\n",
    "\t\toptimizer.step()\n",
    "\n",
    "\t\t# 打印状态信息\n",
    "\t\trunning_loss += loss.item()\n",
    "\t\tif i % 2000 == 1999: # 每 2000 个 mini-batches 打印一次训练状态\n",
    "\t\t\tprint(f'[{epoch + 1}, {i + 1:5d}] loss: {running_loss / 2000:.3f}')\n",
    "\t\t\trunning_loss = 0.0\n",
    "\n",
    "\tcorrect = 0\n",
    "\ttotal = 0\n",
    "\t# 因为我们不需要进行梯度计算，所以我们使用 torch.no_grad() 来减少内存开销\n",
    "\twith torch.no_grad():\n",
    "\t\tfor data in testloader:\n",
    "\t\t\timages, labels = data\n",
    "\t\t\tinputs, labels = inputs.to(device), labels.to(device)\n",
    "\t\t\toutputs = net(images)\n",
    "\t\t\t_, predicted = torch.max(outputs.data, 1) # 取得分最高的那个类 (outputs.data 的索引号)\n",
    "\t\t\ttotal += labels.size(0) # 统计测试数据集的数量\n",
    "\t\t\tcorrect += (predicted == labels).sum().item() # 统计预测正确的数量\n",
    "\n",
    "\tprint(f'10000 测试集的准确率: {100 * correct // total} %')\n",
    "\n",
    "print('Finished Training')\n"
   ]
  },
  {
   "cell_type": "markdown",
   "metadata": {},
   "source": [
    "保存训练好的模型\n"
   ]
  },
  {
   "cell_type": "code",
   "execution_count": null,
   "metadata": {},
   "outputs": [],
   "source": [
    "PATH = './cifar_net.pth'\n",
    "torch.save(net.state_dict(), PATH)\n"
   ]
  },
  {
   "cell_type": "markdown",
   "metadata": {},
   "source": [
    "## 5. 在测试集上测试网络\n"
   ]
  },
  {
   "cell_type": "markdown",
   "metadata": {},
   "source": [
    "准备\n"
   ]
  },
  {
   "cell_type": "code",
   "execution_count": null,
   "metadata": {},
   "outputs": [],
   "source": [
    "net = Net()\n",
    "net.load_state_dict(torch.load(PATH))\n",
    "\n",
    "import matplotlib.pyplot as plt\n",
    "import numpy as np\n",
    "\n",
    "# 显示图像的函数\n",
    "def imshow(img):\n",
    "    img = img / 2 + 0.5  # 去归一化\n",
    "    npimg = img.numpy()\n",
    "    plt.imshow(np.transpose(npimg, (1, 2, 0)))\n",
    "    plt.show()\n"
   ]
  },
  {
   "cell_type": "markdown",
   "metadata": {},
   "source": [
    "第一个 batch 展示\n"
   ]
  },
  {
   "cell_type": "code",
   "execution_count": null,
   "metadata": {},
   "outputs": [
    {
     "data": {
      "image/png": "[encoded data removed]",
      "text/plain": [
       "<Figure size 640x480 with 1 Axes>"
      ]
     },
     "metadata": {},
     "output_type": "display_data"
    },
    {
     "name": "stdout",
     "output_type": "stream",
     "text": [
      "GroundTruth:  mountain forest seal  mushroom\n"
     ]
    }
   ],
   "source": [
    "dataiter = iter(testloader) # 获取测试数据集的迭代器\n",
    "images, labels = next(dataiter) # 获取测试数据集的第一个 batch\n",
    "\n",
    "imshow(torchvision.utils.make_grid(images))\n",
    "print('GroundTruth: ', ' '.join(f'{classes[labels[j]]:5s}' for j in range(4)))\n"
   ]
  },
  {
   "cell_type": "markdown",
   "metadata": {},
   "source": [
    "第一个 batch 的预测结果\n"
   ]
  },
  {
   "cell_type": "code",
   "execution_count": null,
   "metadata": {},
   "outputs": [
    {
     "name": "stdout",
     "output_type": "stream",
     "text": [
      "tensor([[-3.7739e+00, -2.4563e+00,  1.3647e+00,  7.1117e-01, -2.0601e+00,\n",
      "         -7.2641e-01, -2.3647e+00,  1.7511e+00,  3.1649e+00,  1.0584e+00,\n",
      "          7.6922e-01, -2.7331e-01,  3.7020e+00, -1.4395e-01, -1.4948e+00,\n",
      "         -5.9373e-01,  1.3215e+00,  3.8991e+00,  1.1474e-01, -1.7507e+00,\n",
      "         -1.4059e+00, -1.2712e+00,  1.3860e-01, -6.7126e-01, -7.2942e-01,\n",
      "          1.1697e-01, -5.4970e-01,  9.7760e-01, -3.2889e-01,  2.3295e+00,\n",
      "          2.4520e+00, -2.7905e+00, -1.1716e+00, -1.6185e+00, -1.1074e+00,\n",
      "         -1.2891e+00, -2.9564e+00,  1.4419e+00,  8.3293e-01, -1.8858e+00,\n",
      "          2.4914e+00,  2.4956e+00, -8.4556e-01, -2.3965e+00, -6.9545e-01,\n",
      "          8.0251e-01, -2.7073e-01, -1.4650e+00,  3.1172e+00,  4.0878e-01,\n",
      "         -4.2865e-01, -2.6372e+00, -8.1289e-01, -3.5561e+00, -1.1235e+00,\n",
      "          1.5137e+00,  4.5936e-01,  1.4034e+00, -9.4835e-01,  1.4994e+00,\n",
      "         -2.1673e+00,  3.4152e-01, -4.1480e+00, -7.3096e-01, -9.6261e-02,\n",
      "          1.3961e+00,  6.4035e-01, -8.0513e-01,  1.1318e+00,  1.8731e+00,\n",
      "         -1.5913e+00, -1.0244e+00,  1.7444e+00, -1.9700e+00, -1.5041e+00,\n",
      "          1.3439e+00,  2.9764e+00, -7.3646e-01, -6.6995e-01,  1.7575e+00,\n",
      "          1.7861e+00,  1.2172e+00, -1.9204e+00, -3.0355e+00, -9.3413e-01,\n",
      "          5.4337e+00,  2.3709e+00,  7.4677e-01, -7.6286e-01,  2.2808e+00,\n",
      "          3.8132e+00,  4.6517e-02, -1.9443e+00,  1.5141e-01, -3.3766e+00,\n",
      "          1.4456e+00,  1.5301e+00,  7.8629e-01, -1.6439e+00, -1.0264e+00],\n",
      "        [-4.9704e+00, -1.2746e+00,  9.6086e-02,  5.5734e-01,  1.8587e+00,\n",
      "         -2.1928e+00,  6.5812e-01, -1.7264e+00,  2.4013e+00,  6.9988e-02,\n",
      "         -9.5324e-01,  1.5107e+00,  6.2610e-01, -2.4336e+00,  4.8906e-01,\n",
      "          9.7023e-01, -1.4510e+00,  6.2210e-01,  1.3125e+00,  9.0672e-01,\n",
      "         -3.9994e+00, -6.4751e-01, -1.0464e-01, -8.5316e-01, -4.4076e+00,\n",
      "         -6.7149e-01,  1.6107e+00,  3.3058e+00, -9.7578e-01,  2.6244e+00,\n",
      "          5.0553e-01,  2.2341e+00,  7.4607e-01,  1.7413e+00,  2.8409e+00,\n",
      "         -7.1783e-02,  1.8735e+00,  3.6063e-02,  4.3753e+00,  1.4617e+00,\n",
      "         -3.4224e+00,  5.4988e-01,  4.9808e+00,  1.4116e+00,  3.7378e-01,\n",
      "          3.9898e+00, -6.1184e-01, -8.6938e-01, -2.5078e+00, -2.2663e+00,\n",
      "          3.5763e+00,  2.6267e-01, -1.7121e+00, -6.0573e+00, -3.1019e-01,\n",
      "          6.6970e-01,  1.0811e+00, -3.5554e-01, -4.6421e+00,  2.5765e+00,\n",
      "         -4.7199e+00, -1.8558e+00, -5.3657e+00,  4.0696e+00,  4.3356e+00,\n",
      "          3.5638e+00,  4.5043e+00,  3.3171e+00,  6.6757e-01, -4.2170e+00,\n",
      "         -2.9193e+00, -3.8920e+00,  1.6952e+00, -1.1366e+00,  4.4698e+00,\n",
      "         -3.4165e+00, -6.3715e-01,  8.1559e-01,  7.6961e-01,  2.0083e+00,\n",
      "          5.7114e+00, -1.4652e+00, -4.1789e+00, -4.6792e+00, -3.1802e+00,\n",
      "         -1.6452e+00, -1.9248e+00, -2.9804e+00,  5.3281e+00,  1.4481e+00,\n",
      "          6.1761e-01,  9.0397e-01, -2.2791e+00,  1.4804e+00, -4.2076e+00,\n",
      "         -4.0186e+00,  1.9479e+00,  5.0774e+00, -1.0768e+00,  1.9390e-01],\n",
      "        [-1.2527e-01,  4.6489e-01,  3.9810e-01,  2.8160e+00,  2.9151e+00,\n",
      "          6.6462e-02, -8.8319e-01,  1.5742e-04, -1.0862e-01, -2.2470e+00,\n",
      "         -1.2281e+00,  7.1551e-01,  1.4680e+00,  1.5122e+00, -7.9116e-01,\n",
      "          1.9823e+00, -1.3644e+00,  4.5235e-01, -1.4316e+00,  1.8900e+00,\n",
      "          9.2126e-02,  2.5846e-01, -8.7932e-01, -2.0720e+00, -4.5479e-01,\n",
      "          8.0830e-01,  1.9851e+00,  1.8190e+00, -5.1830e-01,  1.4549e+00,\n",
      "         -4.7199e-01,  1.6496e+00,  2.4214e+00, -5.6969e-01,  2.6611e-01,\n",
      "          6.5697e-01, -7.5433e-01,  2.7496e+00,  5.0290e-01, -2.1383e+00,\n",
      "          2.3467e-01, -1.0808e+00, -4.3855e-01,  1.4233e+00,  1.0772e+00,\n",
      "          1.8351e+00,  1.1693e+00,  3.8564e-01,  1.0350e+00,  3.9127e-01,\n",
      "         -7.3977e-01, -5.4229e-01, -6.2919e-01, -1.2511e+00, -1.0047e+00,\n",
      "          2.6037e+00, -7.1298e-01, -7.5546e-01,  1.6564e+00, -6.9587e-02,\n",
      "         -2.4092e+00, -2.8463e+00, -2.7248e+00, -1.8216e+00, -1.6182e+00,\n",
      "         -6.4101e-01, -2.5423e+00, -4.0564e-01, -1.4230e+00, -6.8493e-01,\n",
      "          5.1866e-02, -7.4061e-01,  2.0213e+00,  8.5180e-01, -4.5662e-01,\n",
      "         -2.1248e-01, -2.8237e+00,  1.4610e+00,  6.7578e-01, -3.8431e-02,\n",
      "         -5.3202e-01,  1.7621e+00, -1.5832e+00, -1.7428e+00,  1.4730e-01,\n",
      "          8.2182e-01, -1.8682e+00,  1.0069e+00,  2.1222e-01,  3.8103e+00,\n",
      "          3.0190e+00, -1.4261e-01, -1.6212e+00,  1.9173e+00, -1.5774e+00,\n",
      "          7.2065e-01, -2.1951e+00, -2.7592e+00,  8.4160e-01, -1.7999e+00],\n",
      "        [-1.7954e-01, -2.0523e+00,  1.2934e+00,  1.5322e+00,  1.7508e+00,\n",
      "          2.7751e+00, -3.5078e-02, -5.8453e-01, -6.4901e+00,  8.4199e-01,\n",
      "          3.3779e+00,  4.6280e+00, -9.5122e-01,  3.1458e-01,  2.0790e-01,\n",
      "          4.6333e+00, -1.6357e+00,  1.3393e-01, -4.9569e-01,  4.2049e+00,\n",
      "         -1.9730e+00, -5.0640e-01,  1.7455e+00, -3.1842e+00, -7.5575e-01,\n",
      "          1.7823e+00,  3.0005e+00,  2.1014e+00,  1.8650e+00, -5.2068e-02,\n",
      "         -3.1801e+00, -1.2120e+00,  2.3251e+00, -1.1811e+00, -2.3411e+00,\n",
      "          3.7613e+00, -1.2184e-01,  3.8445e+00,  3.2920e+00, -1.6765e-01,\n",
      "          3.0508e+00, -6.2954e+00, -1.2583e+00,  3.0820e-01,  1.0466e-01,\n",
      "         -9.8765e-01,  4.5093e+00, -5.4504e+00, -5.2161e+00, -1.3379e+00,\n",
      "          9.8329e-01,  8.0546e+00, -7.8092e+00, -2.8636e+00,  3.3482e+00,\n",
      "          3.2548e+00, -2.2960e+00, -2.0742e+00,  2.0301e+00, -3.9994e+00,\n",
      "         -4.8566e+00, -1.4596e+00,  6.8401e-02,  4.5468e-01,  5.2201e+00,\n",
      "          2.6141e+00,  4.7055e-01,  9.3345e-01, -5.7116e+00, -3.9140e+00,\n",
      "          1.5499e+00, -5.6723e+00,  3.1643e+00,  3.9531e+00,  1.9796e+00,\n",
      "          1.2097e+00, -3.8872e+00,  2.5621e+00, -1.9497e+00, -1.3677e+00,\n",
      "          2.1975e+00, -3.0402e+00, -7.1559e+00, -2.7867e+00,  6.9592e+00,\n",
      "          3.6688e+00, -2.5385e-01, -1.1331e+00, -5.2265e-01, -1.1445e+00,\n",
      "         -1.8529e+00,  6.4545e+00,  3.4492e+00,  2.6046e-01, -3.1829e+00,\n",
      "         -5.2728e+00, -5.6903e+00,  3.6170e+00,  1.9431e+00, -2.3400e+00]],\n",
      "       grad_fn=<AddmmBackward0>)\n",
      "Predicted:  tank  squirrel tractor mushroom\n"
     ]
    }
   ],
   "source": [
    "outputs = net(images)\n",
    "print(outputs)\n",
    "\n",
    "_, predicted = torch.max(outputs, 1) # 获取最大值的索引\n",
    "\n",
    "print('Predicted: ', ' '.join(f'{classes[predicted[j]]:5s}'\n",
    "                              for j in range(4)))\n"
   ]
  },
  {
   "cell_type": "markdown",
   "metadata": {},
   "source": [
    "总准确率\n"
   ]
  },
  {
   "cell_type": "code",
   "execution_count": null,
   "metadata": {},
   "outputs": [
    {
     "name": "stdout",
     "output_type": "stream",
     "text": [
      "10000 测试集的准确率: 32 %\n"
     ]
    }
   ],
   "source": [
    "correct = 0\n",
    "total = 0\n",
    "# 因为我们不需要进行梯度计算，所以我们使用 torch.no_grad() 来减少内存开销\n",
    "with torch.no_grad():\n",
    "    for data in testloader:\n",
    "        images, labels = data\n",
    "        outputs = net(images)\n",
    "        _, predicted = torch.max(outputs.data, 1) # 取得分最高的那个类 (outputs.data 的索引号)\n",
    "        total += labels.size(0) # 统计测试数据集的数量\n",
    "        correct += (predicted == labels).sum().item() # 统计预测正确的数量\n",
    "\n",
    "print(f'10000 测试集的准确率: {100 * correct // total} %')\n"
   ]
  },
  {
   "cell_type": "markdown",
   "metadata": {},
   "source": [
    "每个类别的准确率"
   ]
  },
  {
   "cell_type": "code",
   "execution_count": null,
   "metadata": {},
   "outputs": [
    {
     "name": "stdout",
     "output_type": "stream",
     "text": [
      "Accuracy for class: apple is 39.0 %\n",
      "Accuracy for class: aquarium_fish is 52.0 %\n",
      "Accuracy for class: baby  is 17.0 %\n",
      "Accuracy for class: bear  is 17.0 %\n",
      "Accuracy for class: beaver is 9.0 %\n",
      "Accuracy for class: bed   is 24.0 %\n",
      "Accuracy for class: bee   is 21.0 %\n",
      "Accuracy for class: beetle is 53.0 %\n",
      "Accuracy for class: bicycle is 39.0 %\n",
      "Accuracy for class: bottle is 47.0 %\n",
      "Accuracy for class: bowl  is 10.0 %\n",
      "Accuracy for class: boy   is 32.0 %\n",
      "Accuracy for class: bridge is 38.0 %\n",
      "Accuracy for class: bus   is 21.0 %\n",
      "Accuracy for class: butterfly is 30.0 %\n",
      "Accuracy for class: camel is 11.0 %\n",
      "Accuracy for class: can   is 30.0 %\n",
      "Accuracy for class: castle is 49.0 %\n",
      "Accuracy for class: caterpillar is 13.0 %\n",
      "Accuracy for class: cattle is 13.0 %\n",
      "Accuracy for class: chair is 68.0 %\n",
      "Accuracy for class: chimpanzee is 49.0 %\n",
      "Accuracy for class: clock is 28.0 %\n",
      "Accuracy for class: cloud is 49.0 %\n",
      "Accuracy for class: cockroach is 54.0 %\n",
      "Accuracy for class: couch is 30.0 %\n",
      "Accuracy for class: cra   is 25.0 %\n",
      "Accuracy for class: crocodile is 34.0 %\n",
      "Accuracy for class: cup   is 49.0 %\n",
      "Accuracy for class: dinosaur is 33.0 %\n",
      "Accuracy for class: dolphin is 37.0 %\n",
      "Accuracy for class: elephant is 25.0 %\n",
      "Accuracy for class: flatfish is 21.0 %\n",
      "Accuracy for class: forest is 12.0 %\n",
      "Accuracy for class: fox   is 20.0 %\n",
      "Accuracy for class: girl  is 17.0 %\n",
      "Accuracy for class: hamster is 36.0 %\n",
      "Accuracy for class: house is 23.0 %\n",
      "Accuracy for class: kangaroo is 23.0 %\n",
      "Accuracy for class: keyboard is 43.0 %\n",
      "Accuracy for class: lamp  is 18.0 %\n",
      "Accuracy for class: lawn_mower is 61.0 %\n",
      "Accuracy for class: leopard is 27.0 %\n",
      "Accuracy for class: lion  is 25.0 %\n",
      "Accuracy for class: lizard is 13.0 %\n",
      "Accuracy for class: lobster is 32.0 %\n",
      "Accuracy for class: man   is 17.0 %\n",
      "Accuracy for class: maple_tree is 27.0 %\n",
      "Accuracy for class: motorcycle is 65.0 %\n",
      "Accuracy for class: mountain is 32.0 %\n",
      "Accuracy for class: mouse is 13.0 %\n",
      "Accuracy for class: mushroom is 24.0 %\n",
      "Accuracy for class: oak_tree is 65.0 %\n",
      "Accuracy for class: orange is 47.0 %\n",
      "Accuracy for class: orchid is 39.0 %\n",
      "Accuracy for class: otter is 5.0 %\n",
      "Accuracy for class: palm_tree is 46.0 %\n",
      "Accuracy for class: pear  is 30.0 %\n",
      "Accuracy for class: pickup_truck is 34.0 %\n",
      "Accuracy for class: pine_tree is 32.0 %\n",
      "Accuracy for class: plain is 67.0 %\n",
      "Accuracy for class: plate is 39.0 %\n",
      "Accuracy for class: poppy is 37.0 %\n",
      "Accuracy for class: porcupine is 37.0 %\n",
      "Accuracy for class: possum is 17.0 %\n",
      "Accuracy for class: rabbit is 14.0 %\n",
      "Accuracy for class: raccoon is 35.0 %\n",
      "Accuracy for class: ray   is 41.0 %\n",
      "Accuracy for class: road  is 65.0 %\n",
      "Accuracy for class: rocket is 44.0 %\n",
      "Accuracy for class: rose  is 29.0 %\n",
      "Accuracy for class: sea   is 52.0 %\n",
      "Accuracy for class: seal  is 6.0 %\n",
      "Accuracy for class: shark is 15.0 %\n",
      "Accuracy for class: shrew is 27.0 %\n",
      "Accuracy for class: skunk is 72.0 %\n",
      "Accuracy for class: skyscraper is 47.0 %\n",
      "Accuracy for class: snail is 10.0 %\n",
      "Accuracy for class: snake is 7.0 %\n",
      "Accuracy for class: spider is 37.0 %\n",
      "Accuracy for class: squirrel is 27.0 %\n",
      "Accuracy for class: streetcar is 29.0 %\n",
      "Accuracy for class: sunflower is 60.0 %\n",
      "Accuracy for class: sweet_pepper is 34.0 %\n",
      "Accuracy for class: table is 21.0 %\n",
      "Accuracy for class: tank  is 44.0 %\n",
      "Accuracy for class: telephone is 44.0 %\n",
      "Accuracy for class: television is 42.0 %\n",
      "Accuracy for class: tiger is 48.0 %\n",
      "Accuracy for class: tractor is 27.0 %\n",
      "Accuracy for class: train is 32.0 %\n",
      "Accuracy for class: trout is 47.0 %\n",
      "Accuracy for class: tulip is 32.0 %\n",
      "Accuracy for class: turtle is 16.0 %\n",
      "Accuracy for class: wardrobe is 66.0 %\n",
      "Accuracy for class: whale is 29.0 %\n",
      "Accuracy for class: willow_tree is 28.0 %\n",
      "Accuracy for class: wolf  is 40.0 %\n",
      "Accuracy for class: woman is 6.0 %\n",
      "Accuracy for class: worm  is 17.0 %\n"
     ]
    }
   ],
   "source": [
    "# 统计每个类别的预测情况\n",
    "# 形式为字典：{类别名称: 数量}\n",
    "correct_pred = {classname: 0 for classname in classes}\n",
    "total_pred = {classname: 0 for classname in classes}\n",
    "\n",
    "with torch.no_grad():\n",
    "    for data in testloader:\n",
    "        images, labels = data\n",
    "        outputs = net(images)\n",
    "        _, predictions = torch.max(outputs, 1)\n",
    "\t\t# zip() 函数用于将可迭代的对象作为参数，将对象中对应的元素打包成一个个元组，然后返回由这些元组组成的对象\n",
    "        for label, prediction in zip(labels, predictions):\n",
    "            if label == prediction:\n",
    "                correct_pred[classes[label]] += 1\n",
    "            total_pred[classes[label]] += 1\n",
    "\n",
    "for classname, correct_count in correct_pred.items():\n",
    "    accuracy = 100 * float(correct_count) / total_pred[classname]\n",
    "    print(f'Accuracy for class: {classname:5s} is {accuracy:.1f} %')\n"
   ]
  }
 ],
 "metadata": {
  "kernelspec": {
   "display_name": "Python 3 (ipykernel)",
   "language": "python",
   "name": "python3"
  },
  "language_info": {
   "codemirror_mode": {
    "name": "ipython",
    "version": 3
   },
   "file_extension": ".py",
   "mimetype": "text/x-python",
   "name": "python",
   "nbconvert_exporter": "python",
   "pygments_lexer": "ipython3",
   "version": "3.10.8"
  },
  "vscode": {
   "interpreter": {
    "hash": "aacb857bf6db5594d28e7b855998c242ff58b8f7d53c3e9d49ea4a759a82bec0"
   }
  }
 },
 "nbformat": 4,
 "nbformat_minor": 2
}
